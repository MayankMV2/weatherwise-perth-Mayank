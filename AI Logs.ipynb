{
  "nbformat": 4,
  "nbformat_minor": 0,
  "metadata": {
    "colab": {
      "provenance": [],
      "authorship_tag": "ABX9TyPa9/S8uqIdkVs+nG9hrcec",
      "include_colab_link": true
    },
    "kernelspec": {
      "name": "python3",
      "display_name": "Python 3"
    },
    "language_info": {
      "name": "python"
    }
  },
  "cells": [
    {
      "cell_type": "markdown",
      "metadata": {
        "id": "view-in-github",
        "colab_type": "text"
      },
      "source": [
        "<a href=\"https://colab.research.google.com/github/MayankMV2/weatherwise-perth-Mayank/blob/main/AI%20Logs.ipynb\" target=\"_parent\"><img src=\"https://colab.research.google.com/assets/colab-badge.svg\" alt=\"Open In Colab\"/></a>"
      ]
    },
    {
      "cell_type": "code",
      "execution_count": 1,
      "metadata": {
        "colab": {
          "base_uri": "https://localhost:8080/"
        },
        "id": "srl_hEI4Ulpg",
        "outputId": "2dde7212-1037-4458-9350-54588a460a68"
      },
      "outputs": [
        {
          "output_type": "stream",
          "name": "stdout",
          "text": [
            "Created logs:\n",
            " - ai_logs/2025-09-21_080957_fetch_7day_perth.txt\n",
            " - ai_logs/2025-09-21_080957_build_dataframe.txt\n",
            " - ai_logs/2025-09-21_080958_charts_probability_fallback.txt\n",
            " - ai_logs/2025-09-21_080958_qa_rules.txt\n",
            " - ai_logs/2025-09-21_080958_timezone_patch.txt\n",
            " - ai_logs/2025-09-21_080958_menu_and_export.txt\n"
          ]
        }
      ],
      "source": [
        "import os, datetime, textwrap, time\n",
        "\n",
        "os.makedirs(\"ai_logs\", exist_ok=True)\n",
        "stamp = datetime.datetime.now().strftime(\"%Y-%m-%d %H:%M (AWST)\")\n",
        "\n",
        "logs = [\n",
        "    (\"fetch_7day_perth\",\n",
        "     \"\"\"I'm only getting 3 days from wttr.in via fetch_my_weather. How can I fetch 7 days for Perth without an API key, and which fields should I keep for charts and Q&A?\"\"\",\n",
        "     \"\"\"- Switched to Open-Meteo with forecast_days=7\n",
        "- Kept columns: date, tmin_c, tmax_c, precip_mm, precip_prob, wind_max_kmh, uv_max\"\"\"),\n",
        "\n",
        "    (\"build_dataframe\",\n",
        "     \"\"\"Map the Open-Meteo daily JSON to a tidy DataFrame with these exact columns:\n",
        "date, tmin_c, tmax_c, precip_mm, precip_prob, wind_max_kmh, uv_max.\n",
        "Call out any dtype or parsing gotchas.\"\"\",\n",
        "     \"\"\"- Implemented the mapping and verified dtypes\n",
        "- Charts now read 7 rows cleanly\"\"\"),\n",
        "\n",
        "    (\"charts_probability_fallback\",\n",
        "     \"\"\"My precipitation bars are all zero for a dry week. How do I show rain probability instead so the chart isn’t blank?\"\"\",\n",
        "     \"\"\"- If all precip_mm==0, plot precip_prob (%) line instead of bars\"\"\"),\n",
        "\n",
        "    (\"qa_rules\",\n",
        "     \"\"\"Write a simple rule-based Q&A that answers:\n",
        "- Do I need an umbrella tomorrow?\n",
        "- How windy will it be on Friday?\n",
        "- What’s the UV tomorrow?\n",
        "- What is the max temp this week?\n",
        "- Which day is the wettest?\n",
        "Input is my 7-day DataFrame. Handle 'today', 'tomorrow', and weekday names.\"\"\",\n",
        "     \"\"\"- Added ask() with date parsing and rules (umbrella if prob≥50% or mm≥1.0)\"\"\"),\n",
        "\n",
        "    (\"timezone_patch\",\n",
        "     \"\"\"‘Today/Tomorrow’ looks off in Colab (UTC). How do I align parsing to Australia/Perth so dates match the forecast window?\"\"\",\n",
        "     \"\"\"- Patched _day_from to use Australia/Perth (or anchored to df’s first date)\"\"\"),\n",
        "\n",
        "    (\"menu_and_export\",\n",
        "     \"\"\"Suggest a tiny in-notebook menu to refresh the forecast, show charts, and ask a question; plus an export step to save CSV/PNGs and a Q&A proof file.\"\"\",\n",
        "     \"\"\"- Added simple text menu and export cell (CSV + PNGs + Q&A proof)\"\"\"),\n",
        "]\n",
        "\n",
        "created = []\n",
        "for title, prompt, outcome in logs:\n",
        "    ts = datetime.datetime.now().strftime(\"%Y-%m-%d_%H%M%S\")\n",
        "    filename = f\"ai_logs/{ts}_{title}.txt\"\n",
        "    with open(filename, \"w\", encoding=\"utf-8\") as f:\n",
        "        f.write(textwrap.dedent(f\"\"\"\\\n",
        "        # Title: {title.replace('_',' ').title()}\n",
        "        # Timestamp: {stamp}\n",
        "\n",
        "        ## Prompt\n",
        "        {prompt}\n",
        "\n",
        "        ## AI Response\n",
        "        (paste the AI assistant's reply here)\n",
        "\n",
        "        ## Outcome (what I changed)\n",
        "        {outcome}\n",
        "        \"\"\"))\n",
        "    created.append(filename)\n",
        "    time.sleep(0.2)  # ensure different timestamps\n",
        "\n",
        "print(\"Created logs:\")\n",
        "for p in created:\n",
        "    print(\" -\", p)\n"
      ]
    },
    {
      "cell_type": "code",
      "source": [
        "import glob, os\n",
        "logs = sorted(glob.glob(\"ai_logs/*.txt\"))\n",
        "print(\"AI logs found:\", len(logs))\n",
        "for p in logs:\n",
        "    print(\" -\", os.path.basename(p))\n",
        "if len(logs) < 5:\n",
        "    print(\"⚠️ Need at least 5 logs with Prompt + AI Response + Outcome.\")\n",
        "else:\n",
        "    print(\"✅ Requirement met (≥ 5).\")\n"
      ],
      "metadata": {
        "colab": {
          "base_uri": "https://localhost:8080/"
        },
        "id": "RjyxNRyVUwib",
        "outputId": "f9b1c208-4d96-409e-d5a3-8f2377925d4f"
      },
      "execution_count": 2,
      "outputs": [
        {
          "output_type": "stream",
          "name": "stdout",
          "text": [
            "AI logs found: 6\n",
            " - 2025-09-21_080957_build_dataframe.txt\n",
            " - 2025-09-21_080957_fetch_7day_perth.txt\n",
            " - 2025-09-21_080958_charts_probability_fallback.txt\n",
            " - 2025-09-21_080958_menu_and_export.txt\n",
            " - 2025-09-21_080958_qa_rules.txt\n",
            " - 2025-09-21_080958_timezone_patch.txt\n",
            "✅ Requirement met (≥ 5).\n"
          ]
        }
      ]
    }
  ]
}